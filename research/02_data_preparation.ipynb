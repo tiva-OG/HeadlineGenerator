{
 "cells": [
  {
   "cell_type": "code",
   "execution_count": 1,
   "id": "6ec468a8-b30d-40fc-981b-903008fa7b8d",
   "metadata": {},
   "outputs": [
    {
     "data": {
      "text/plain": [
       "'/home/tiva/PycharmProjects/HeadlineGenerator/notebook'"
      ]
     },
     "execution_count": 1,
     "metadata": {},
     "output_type": "execute_result"
    }
   ],
   "source": [
    "%pwd"
   ]
  },
  {
   "cell_type": "code",
   "execution_count": 2,
   "id": "ee385f1a-ddac-484a-b758-c29e421e5135",
   "metadata": {},
   "outputs": [],
   "source": [
    "import os"
   ]
  },
  {
   "cell_type": "code",
   "execution_count": 3,
   "id": "c122cc30-a321-4760-b1fb-73f76f76ee99",
   "metadata": {},
   "outputs": [],
   "source": [
    "os.chdir(\"../\")"
   ]
  },
  {
   "cell_type": "code",
   "execution_count": 4,
   "id": "d215bc49-d6c5-4b1c-b7ac-e3662d953b39",
   "metadata": {},
   "outputs": [
    {
     "data": {
      "text/plain": [
       "'/home/tiva/PycharmProjects/HeadlineGenerator'"
      ]
     },
     "execution_count": 4,
     "metadata": {},
     "output_type": "execute_result"
    }
   ],
   "source": [
    "%pwd"
   ]
  },
  {
   "cell_type": "code",
   "execution_count": 5,
   "id": "c2da4fda-49e7-46ab-b97c-a1233a2d98bd",
   "metadata": {},
   "outputs": [],
   "source": [
    "from dataclasses import dataclass\n",
    "from pathlib import Path"
   ]
  },
  {
   "cell_type": "code",
   "execution_count": 6,
   "id": "3883be14-5a12-4fce-87f9-2fe16aa938dd",
   "metadata": {},
   "outputs": [],
   "source": [
    "@dataclass(frozen=True)\n",
    "class DataPreparationConfig:\n",
    "    root_dir: Path\n",
    "    data_dir: Path\n",
    "    save_dir: Path"
   ]
  },
  {
   "cell_type": "code",
   "execution_count": 7,
   "id": "a1bdfed6-e16c-481d-8ca1-074500be6b47",
   "metadata": {},
   "outputs": [
    {
     "name": "stdout",
     "output_type": "stream",
     "text": [
      "[2024-03-17 06:19:12,430 || PyTorch version 2.2.0+cpu available.]\n"
     ]
    }
   ],
   "source": [
    "from headlineGenerator.constants import *\n",
    "from headlineGenerator.utils.common import read_yaml, create_directories\n",
    "\n",
    "from datasets import concatenate_datasets, DatasetDict"
   ]
  },
  {
   "cell_type": "code",
   "execution_count": 8,
   "id": "6b70b78b-7af2-4aeb-ba34-aeb31d6adf86",
   "metadata": {},
   "outputs": [],
   "source": [
    "class ConfigurationManager:\n",
    "    def __init__(self, config_filepath=CONFIG_FILEPATH, params_filepath=PARAMS_FILEPATH):\n",
    "        self.config = read_yaml(config_filepath)\n",
    "        self.params = read_yaml(params_filepath)\n",
    "\n",
    "        create_directories([self.config.artifacts_root])\n",
    "\n",
    "    def get_data_preparation_config(self) -> DataPreparationConfig:\n",
    "        config = self.config.data_preparation\n",
    "\n",
    "        create_directories([config.root_dir])\n",
    "\n",
    "        data_preparation_config = DataPreparationConfig(\n",
    "            root_dir=config.root_dir,\n",
    "            data_dir=config.data_dir,\n",
    "            save_dir=config.save_dir,\n",
    "        )\n",
    "\n",
    "        return data_preparation_config"
   ]
  },
  {
   "cell_type": "code",
   "execution_count": 9,
   "id": "1746c19a-1e67-43d9-bdf4-37672b4ae23a",
   "metadata": {},
   "outputs": [],
   "source": [
    "import os\n",
    "import re\n",
    "from datasets import load_dataset, concatenate_datasets, DatasetDict\n",
    "from headlineGenerator.logging import logger"
   ]
  },
  {
   "cell_type": "code",
   "execution_count": 10,
   "id": "0c2e1e7a-30f4-4e01-8a7e-445808031754",
   "metadata": {},
   "outputs": [],
   "source": [
    "class DataPreparation:\n",
    "    def __init__(self, config: DataPreparationConfig):\n",
    "        self.config = config\n",
    "        self.news_dataset = DatasetDict()\n",
    "        self.business_file = os.path.join(self.config.data_dir, \"business_contents.csv\")\n",
    "        self.entertainment_file = os.path.join(self.config.data_dir, \"entertainment_contents.csv\")\n",
    "        self.sports_file = os.path.join(self.config.data_dir, \"sports_contents.csv\")\n",
    "\n",
    "    def add_category(self, example, category):\n",
    "        return {\"category\": category}\n",
    "\n",
    "    def build_full_story(self, example):\n",
    "        if example[\"summary\"] is None:\n",
    "            return {\"full_story\": example[\"main_story\"]}\n",
    "    \n",
    "        return {\"full_story\": example[\"summary\"] + \" \" + example[\"main_story\"]}\n",
    "\n",
    "    def edit_writer(self, example):\n",
    "        if example[\"writer\"] is None:\n",
    "            return {\"writer\": \"UNK\"}\n",
    "        else:\n",
    "            return {\"writer\": re.sub(\"by.\", \"\", example[\"writer\"].lower()).strip()}\n",
    "\n",
    "    def lowercase_content(self, example):\n",
    "        return {\"headline\": example[\"headline\"].lower(), \"full_story\": example[\"full_story\"].lower()}\n",
    "\n",
    "    def compute_story_length(self, example):\n",
    "        return {\"story_length\": len(example[\"full_story\"].split())}\n",
    "\n",
    "    def load_data(self):\n",
    "        business_dataset = load_dataset(\"csv\", data_files=self.business_file, split=\"train\")\n",
    "        entertainment_dataset = load_dataset(\"csv\", data_files=self.entertainment_file, split=\"train\")\n",
    "        sports_dataset = load_dataset(\"csv\", data_files=self.sports_file, split=\"train\")\n",
    "\n",
    "        # add category to datasets\n",
    "        business_dataset = business_dataset.map(self.add_category, fn_kwargs={\"category\": \"business\"})\n",
    "        entertainment_dataset = entertainment_dataset.map(self.add_category, fn_kwargs={\"category\": \"entertainment\"})\n",
    "        sports_dataset = sports_dataset.map(self.add_category, fn_kwargs={\"category\": \"sports\"})\n",
    "\n",
    "        # concatenate data\n",
    "        news_dataset = concatenate_datasets([business_dataset, entertainment_dataset, sports_dataset])\n",
    "        self.news_dataset = news_dataset.shuffle(seed=84)\n",
    "\n",
    "    def clean_data(self):\n",
    "        # remove any content with no story\n",
    "        self.news_dataset = self.news_dataset.filter(lambda x: x[\"main_story\"] is not None)\n",
    "\n",
    "        # encode the `category` column\n",
    "        self.news_dataset = self.news_dataset.class_encode_column(\"category\")\n",
    "\n",
    "        # create a full story by combining the summary and main story\n",
    "        self.news_dataset = self.news_dataset.map(self.build_full_story)\n",
    "\n",
    "        # edit content writers, removing `by.` from their names\n",
    "        self.news_dataset = self.news_dataset.map(self.edit_writer)\n",
    "\n",
    "        # convert all headlines and stories to lowercase\n",
    "        self.news_dataset = self.news_dataset.map(self.lowercase_content)\n",
    "\n",
    "        # compute length of each story\n",
    "        self.news_dataset = self.news_dataset.map(self.compute_story_length)\n",
    "\n",
    "        # remove contents > 1000 words in `story_length`\n",
    "        self.news_dataset = self.news_dataset.filter(lambda x: x[\"story_length\"] < 1000)\n",
    "\n",
    "    def split_and_save(self):\n",
    "        # remove unwanted columns\n",
    "        news_dataset_clean = self.news_dataset.remove_columns([\"last_update\", \"summary\", \"editor\", \"writer\", \"main_story\",])\n",
    "        \n",
    "        split_data = news_dataset_clean.train_test_split(train_size=0.7, seed=84)\n",
    "        val_n_test = split_data[\"test\"].train_test_split(train_size=0.4, seed=84)\n",
    "        split_data[\"validation\"] = val_n_test[\"train\"]\n",
    "        split_data[\"test\"] = val_n_test[\"test\"]\n",
    "\n",
    "        split_data.save_to_disk(self.config.save_dir)"
   ]
  },
  {
   "cell_type": "code",
   "execution_count": 11,
   "id": "437a369e-c3fb-4104-9994-776916f675f5",
   "metadata": {},
   "outputs": [
    {
     "name": "stdout",
     "output_type": "stream",
     "text": [
      "[2024-03-17 06:19:54,284 || yaml file : config.yaml loaded successfully]\n",
      "[2024-03-17 06:19:54,354 || yaml file : params.yaml loaded successfully]\n",
      "[2024-03-17 06:19:54,368 || created directory at artifacts]\n",
      "[2024-03-17 06:19:54,370 || created directory at artifacts/data_preparation]\n"
     ]
    },
    {
     "data": {
      "application/vnd.jupyter.widget-view+json": {
       "model_id": "f3ca27681a474b0782c2e74a25336ef7",
       "version_major": 2,
       "version_minor": 0
      },
      "text/plain": [
       "Map:   0%|          | 0/193 [00:00<?, ? examples/s]"
      ]
     },
     "metadata": {},
     "output_type": "display_data"
    },
    {
     "data": {
      "application/vnd.jupyter.widget-view+json": {
       "model_id": "903b1b33653e44de9905baa9d621b767",
       "version_major": 2,
       "version_minor": 0
      },
      "text/plain": [
       "Map:   0%|          | 0/230 [00:00<?, ? examples/s]"
      ]
     },
     "metadata": {},
     "output_type": "display_data"
    },
    {
     "data": {
      "application/vnd.jupyter.widget-view+json": {
       "model_id": "ec7ff83075604a849c3e91c0ecdbb769",
       "version_major": 2,
       "version_minor": 0
      },
      "text/plain": [
       "Map:   0%|          | 0/312 [00:00<?, ? examples/s]"
      ]
     },
     "metadata": {},
     "output_type": "display_data"
    },
    {
     "data": {
      "application/vnd.jupyter.widget-view+json": {
       "model_id": "dc578a1cf68c40b581551c2e1d005cbd",
       "version_major": 2,
       "version_minor": 0
      },
      "text/plain": [
       "Filter:   0%|          | 0/735 [00:00<?, ? examples/s]"
      ]
     },
     "metadata": {},
     "output_type": "display_data"
    },
    {
     "data": {
      "application/vnd.jupyter.widget-view+json": {
       "model_id": "fa5bf4bef1374bbeb797ec59f3754145",
       "version_major": 2,
       "version_minor": 0
      },
      "text/plain": [
       "Flattening the indices:   0%|          | 0/724 [00:00<?, ? examples/s]"
      ]
     },
     "metadata": {},
     "output_type": "display_data"
    },
    {
     "data": {
      "application/vnd.jupyter.widget-view+json": {
       "model_id": "c57e07dc800441b38b9bd37f8e25b4c1",
       "version_major": 2,
       "version_minor": 0
      },
      "text/plain": [
       "Casting to class labels:   0%|          | 0/724 [00:00<?, ? examples/s]"
      ]
     },
     "metadata": {},
     "output_type": "display_data"
    },
    {
     "data": {
      "application/vnd.jupyter.widget-view+json": {
       "model_id": "de885069dc044d9d9ebbf2567a1057c3",
       "version_major": 2,
       "version_minor": 0
      },
      "text/plain": [
       "Map:   0%|          | 0/724 [00:00<?, ? examples/s]"
      ]
     },
     "metadata": {},
     "output_type": "display_data"
    },
    {
     "data": {
      "application/vnd.jupyter.widget-view+json": {
       "model_id": "79321134ada24854ad383a87b74edd50",
       "version_major": 2,
       "version_minor": 0
      },
      "text/plain": [
       "Map:   0%|          | 0/724 [00:00<?, ? examples/s]"
      ]
     },
     "metadata": {},
     "output_type": "display_data"
    },
    {
     "data": {
      "application/vnd.jupyter.widget-view+json": {
       "model_id": "27b4222052ed4310bc1f34f67887f271",
       "version_major": 2,
       "version_minor": 0
      },
      "text/plain": [
       "Map:   0%|          | 0/724 [00:00<?, ? examples/s]"
      ]
     },
     "metadata": {},
     "output_type": "display_data"
    },
    {
     "data": {
      "application/vnd.jupyter.widget-view+json": {
       "model_id": "f3809c6b496b472c835b766434fbee90",
       "version_major": 2,
       "version_minor": 0
      },
      "text/plain": [
       "Map:   0%|          | 0/724 [00:00<?, ? examples/s]"
      ]
     },
     "metadata": {},
     "output_type": "display_data"
    },
    {
     "data": {
      "application/vnd.jupyter.widget-view+json": {
       "model_id": "abc550a9dd4440e9b6c1a3d5f1d9c44a",
       "version_major": 2,
       "version_minor": 0
      },
      "text/plain": [
       "Filter:   0%|          | 0/724 [00:00<?, ? examples/s]"
      ]
     },
     "metadata": {},
     "output_type": "display_data"
    },
    {
     "data": {
      "application/vnd.jupyter.widget-view+json": {
       "model_id": "60a29a008e824eb0b16f4f107fe0d1b8",
       "version_major": 2,
       "version_minor": 0
      },
      "text/plain": [
       "Saving the dataset (0/1 shards):   0%|          | 0/501 [00:00<?, ? examples/s]"
      ]
     },
     "metadata": {},
     "output_type": "display_data"
    },
    {
     "data": {
      "application/vnd.jupyter.widget-view+json": {
       "model_id": "0ba3a3470d014dafa0ce482de0b9213b",
       "version_major": 2,
       "version_minor": 0
      },
      "text/plain": [
       "Saving the dataset (0/1 shards):   0%|          | 0/129 [00:00<?, ? examples/s]"
      ]
     },
     "metadata": {},
     "output_type": "display_data"
    },
    {
     "data": {
      "application/vnd.jupyter.widget-view+json": {
       "model_id": "63adfc6f5c394621a1232897b278b554",
       "version_major": 2,
       "version_minor": 0
      },
      "text/plain": [
       "Saving the dataset (0/1 shards):   0%|          | 0/86 [00:00<?, ? examples/s]"
      ]
     },
     "metadata": {},
     "output_type": "display_data"
    }
   ],
   "source": [
    "try:\n",
    "    config = ConfigurationManager()\n",
    "    data_preparation_config = config.get_data_preparation_config()\n",
    "    data_preparation = DataPreparation(config=data_preparation_config)\n",
    "    data_preparation.load_data()\n",
    "    data_preparation.clean_data()\n",
    "    data_preparation.split_and_save()\n",
    "except Exception as e:\n",
    "    raise e"
   ]
  },
  {
   "cell_type": "code",
   "execution_count": null,
   "id": "529274c0-9fbe-447f-a955-e16bf04ad079",
   "metadata": {},
   "outputs": [],
   "source": []
  }
 ],
 "metadata": {
  "kernelspec": {
   "display_name": "Python 3 (ipykernel)",
   "language": "python",
   "name": "python3"
  },
  "language_info": {
   "codemirror_mode": {
    "name": "ipython",
    "version": 3
   },
   "file_extension": ".py",
   "mimetype": "text/x-python",
   "name": "python",
   "nbconvert_exporter": "python",
   "pygments_lexer": "ipython3",
   "version": "3.8.10"
  }
 },
 "nbformat": 4,
 "nbformat_minor": 5
}
